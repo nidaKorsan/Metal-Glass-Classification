{
 "metadata": {
  "language_info": {
   "codemirror_mode": {
    "name": "ipython",
    "version": 3
   },
   "file_extension": ".py",
   "mimetype": "text/x-python",
   "name": "python",
   "nbconvert_exporter": "python",
   "pygments_lexer": "ipython3",
   "version": "3.9.2"
  },
  "orig_nbformat": 2,
  "kernelspec": {
   "name": "python392jvsc74a57bd0b99b24e0574bf01576e29af2697a37fade704e9e8132fbc0e102e5a6da99772c",
   "display_name": "Python 3.9.2 64-bit"
  },
  "metadata": {
   "interpreter": {
    "hash": "b99b24e0574bf01576e29af2697a37fade704e9e8132fbc0e102e5a6da99772c"
   }
  }
 },
 "nbformat": 4,
 "nbformat_minor": 2,
 "cells": [
  {
   "cell_type": "code",
   "execution_count": 2,
   "metadata": {},
   "outputs": [],
   "source": [
    "import numpy as numpy\n",
    "from sklearn.decomposition import FastICA\n",
    "from sklearn.decomposition import PCA\n",
    "from sklearn.decomposition import KernelPCA\n",
    "from sklearn.discriminant_analysis import LinearDiscriminantAnalysis\n",
    "from matplotlib import image\n",
    "import os\n",
    "from sklearn.model_selection import train_test_split"
   ]
  },
  {
   "cell_type": "code",
   "execution_count": 7,
   "metadata": {},
   "outputs": [
    {
     "output_type": "stream",
     "name": "stdout",
     "text": [
      "metal_moderate_001_new.jpg\nmetal_moderate_002_new.jpg\nmetal_moderate_003_new.jpg\nmetal_moderate_004_new.jpg\nmetal_moderate_005_new.jpg\nmetal_moderate_006_new.jpg\nmetal_moderate_007_new.jpg\nmetal_moderate_008_new.jpg\nmetal_moderate_009_new.jpg\nmetal_moderate_010_new.jpg\nmetal_moderate_011_new.jpg\nmetal_moderate_012_new.jpg\nmetal_moderate_013_new.jpg\nmetal_moderate_014_new.jpg\nmetal_moderate_015_new.jpg\nmetal_moderate_016_new.jpg\nmetal_moderate_017_new.jpg\nmetal_moderate_018_new.jpg\nmetal_moderate_019_new.jpg\nmetal_moderate_020_new.jpg\nmetal_moderate_021_new.jpg\nmetal_moderate_022_new.jpg\nmetal_moderate_023_new.jpg\nmetal_moderate_024_new.jpg\nmetal_moderate_025_new.jpg\nmetal_moderate_026_new.jpg\nmetal_moderate_027_new.jpg\nmetal_moderate_028_new.jpg\nmetal_moderate_029_new.jpg\nmetal_moderate_030_new.jpg\nmetal_moderate_031_new.jpg\nmetal_moderate_032_new.jpg\nmetal_moderate_033_new.jpg\nmetal_moderate_034_new.jpg\nmetal_moderate_035_new.jpg\nmetal_moderate_036_new.jpg\nmetal_moderate_037_new.jpg\nmetal_moderate_038_new.jpg\nmetal_moderate_039_new.jpg\nmetal_moderate_040_new.jpg\nmetal_moderate_041_new.jpg\nmetal_moderate_042_new.jpg\nmetal_moderate_043_new.jpg\nmetal_moderate_044_new.jpg\nmetal_moderate_045_new.jpg\nmetal_moderate_046_new.jpg\nmetal_moderate_047_new.jpg\nmetal_moderate_048_new.jpg\nmetal_moderate_049_new.jpg\nmetal_moderate_050_new.jpg\nmetal_object_001_new.jpg\nmetal_object_002_new.jpg\nmetal_object_003_new.jpg\nmetal_object_004_new.jpg\nmetal_object_005_new.jpg\nmetal_object_006_new.jpg\nmetal_object_007_new.jpg\nmetal_object_008_new.jpg\nmetal_object_009_new.jpg\nmetal_object_010_new.jpg\nmetal_object_011_new.jpg\nmetal_object_012_new.jpg\nmetal_object_013_new.jpg\nmetal_object_014_new.jpg\nmetal_object_015_new.jpg\nmetal_object_016_new.jpg\nmetal_object_017_new.jpg\nmetal_object_018_new.jpg\nmetal_object_019_new.jpg\nmetal_object_020_new.jpg\nmetal_object_021_new.jpg\nmetal_object_022_new.jpg\nmetal_object_023_new.jpg\nmetal_object_024_new.jpg\nmetal_object_025_new.jpg\nmetal_object_026_new.jpg\nmetal_object_027_new.jpg\nmetal_object_028_new.jpg\nmetal_object_029_new.jpg\nmetal_object_030_new.jpg\nmetal_object_031_new.jpg\nmetal_object_032_new.jpg\nmetal_object_033_new.jpg\nmetal_object_034_new.jpg\nmetal_object_035_new.jpg\nmetal_object_036_new.jpg\nmetal_object_037_new.jpg\nmetal_object_038_new.jpg\nmetal_object_039_new.jpg\nmetal_object_040_new.jpg\nmetal_object_041_new.jpg\nmetal_object_042_new.jpg\nmetal_object_043_new.jpg\nmetal_object_044_new.jpg\nmetal_object_045_new.jpg\nmetal_object_046_new.jpg\nmetal_object_047_new.jpg\nmetal_object_048_new.jpg\nmetal_object_049_new.jpg\nmetal_object_050_new.jpg\n"
     ]
    }
   ],
   "source": [
    "# load image as pixel array\n",
    "#data = image.imread('metal_moderate_001_new.jpg')\n",
    "\n",
    "directoryGlass = '.\\glass'\n",
    "directoryMetal = '.\\metal'\n",
    "\n",
    "generalDataX = []\n",
    "generalDataY = [] # 0 for glass, 1 for metal\n",
    "for filename in os.listdir(directoryGlass):\n",
    "    generalDataX.append(image.imread(filename))\n",
    "    generalDataY.append(0)#glass\n",
    "for filename in os.listdir(directoryMetal):\n",
    "    generalDataX.append(image.imread(filename))\n",
    "    generalDataY.append(1)#metal\n",
    "\n",
    "generalDataXFlattened = np.reshape(generalDataX, (len(generalDataX), len(generalDataX[0]) * len(generalDataX[:,0])))\n",
    "X_train, X_test, y_train, y_test = train_test_split(generalDataXFlattened, generalDataY, test_size=0.33, random_state=42)"
   ]
  },
  {
   "cell_type": "code",
   "execution_count": null,
   "metadata": {},
   "outputs": [],
   "source": []
  }
 ]
}