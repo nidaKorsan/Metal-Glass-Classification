{
 "metadata": {
  "language_info": {
   "codemirror_mode": {
    "name": "ipython",
    "version": 3
   },
   "file_extension": ".py",
   "mimetype": "text/x-python",
   "name": "python",
   "nbconvert_exporter": "python",
   "pygments_lexer": "ipython3",
   "version": "3.9.2"
  },
  "orig_nbformat": 2,
  "kernelspec": {
   "name": "python392jvsc74a57bd0b99b24e0574bf01576e29af2697a37fade704e9e8132fbc0e102e5a6da99772c",
   "display_name": "Python 3.9.2 64-bit"
  },
  "metadata": {
   "interpreter": {
    "hash": "b99b24e0574bf01576e29af2697a37fade704e9e8132fbc0e102e5a6da99772c"
   }
  }
 },
 "nbformat": 4,
 "nbformat_minor": 2,
 "cells": [
  {
   "cell_type": "code",
   "execution_count": 1,
   "metadata": {},
   "outputs": [],
   "source": [
    "import numpy as np\n",
    "from sklearn.decomposition import FastICA\n",
    "from sklearn.decomposition import PCA\n",
    "from sklearn.decomposition import KernelPCA\n",
    "from sklearn.discriminant_analysis import LinearDiscriminantAnalysis\n",
    "from matplotlib import image\n",
    "import glob\n",
    "from sklearn.model_selection import train_test_split\n",
    "import cv2"
   ]
  },
  {
   "cell_type": "code",
   "execution_count": 25,
   "metadata": {
    "tags": []
   },
   "outputs": [
    {
     "output_type": "stream",
     "name": "stdout",
     "text": [
      "512 384 3\n200\n134 66 134 66\n"
     ]
    }
   ],
   "source": [
    "# load image as pixel array\n",
    "#data = image.imread('metal_moderate_001_new.jpg')\n",
    "\n",
    "directoryGlass = 'C:\\\\Users\\\\Nida\\Desktop\\\\Lectures\\\\Pattern\\\\Final\\\\FMD\\\\image\\\\glass\\\\'\n",
    "directoryMetal = 'C:\\\\Users\\\\Nida\\Desktop\\\\Lectures\\\\Pattern\\\\Final\\\\FMD\\\\image\\\\metal\\\\'\n",
    "\n",
    "generalDataX = []\n",
    "generalDataY = [] # 0 for glass, 1 for metal\n",
    "\n",
    "\n",
    "for filename in glob.glob(directoryGlass+'*.jpg'):\n",
    "    generalDataX.append(np.array(cv2.imread(filename)))\n",
    "    generalDataY.append(0)#glass\n",
    "for filename in glob.glob(directoryGlass+'*.jpg'):\n",
    "    generalDataX.append(np.array(cv2.imread(filename)))\n",
    "    generalDataY.append(1)#metal\n",
    "numImages = np.array(generalDataX).shape[0]\n",
    "generalDataXFlattened = np.array([generalDataX[i].flatten() for i in range(0,numImages)])\n",
    "\n",
    "print(len(generalDataX[0][0]), len(generalDataX[0][:,0]), len(generalDataX[0][0][0]))\n",
    "print(len(generalDataX))\n",
    "X_train, X_test, y_train, y_test = train_test_split(generalDataXFlattened, generalDataY, test_size=0.33, random_state=42)\n",
    "print(len(X_train), len(X_test), len(y_train), len(y_test))"
   ]
  },
  {
   "cell_type": "code",
   "execution_count": null,
   "metadata": {},
   "outputs": [],
   "source": []
  }
 ]
}